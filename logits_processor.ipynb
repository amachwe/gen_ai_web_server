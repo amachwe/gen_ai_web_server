{
 "cells": [
  {
   "cell_type": "code",
   "execution_count": 7,
   "metadata": {},
   "outputs": [
    {
     "name": "stdout",
     "output_type": "stream",
     "text": [
      "Sent Syn Data\n"
     ]
    }
   ],
   "source": [
    "import requests\n",
    "import json\n",
    "import sqlite3\n",
    "import os\n",
    "\n",
    " ## Configuring the connection and headers\n",
    "TARGET_URL = \"http://localhost:5000\"\n",
    "REQUEST_URL = f\"{TARGET_URL}/request\"\n",
    "headers = {\n",
    "    \"Content-Type\": \"application/json\",\n",
    "    \"Connection\": \"keep-alive\",\n",
    "}\n",
    "\n",
    "## DDL to create the tables\n",
    "ddl = \"\"\"\n",
    "    create table authors (author_id varchar(20) primary key not null, name text not null);\n",
    "    create table books (book_id varchar(20) primary key not null, name text not null, author_id varchar(20) not null, FOREIGN KEY(author_id) REFERENCES authors(author_id));\n",
    "    create table inventory (inv_id varchar(20) primary key not null, book_id varchar(20) not null, quantity int not null, FOREIGN KEY(book_id) REFERENCES books(book_id));\n",
    "    create table transactions(tx_id varchar(20) primary key not null, book_id varchar(20) not null, quantity_sold int not null, sale_date date not null, FOREIGN KEY(book_id) REFERENCES books(book_id));\n",
    "\"\"\"\n",
    "\n",
    "## create the synthetic data generation prompt\n",
    "prompt_create_data = f\"\"\"<|begin_of_text|><|start_header_id|>user<|end_header_id|>\n",
    "    Given DDL:\n",
    "    {ddl}\n",
    "    <|eot_id|><|start_header_id|>assistant<|end_header_id|>\n",
    "Generate data to populate the tables Authors (3 records), Books (7 records with at least 2 books per author), Inventory (7 records), and Transactions (5 records).\n",
    "\n",
    "```sql\n",
    "\"\"\"\n",
    "\n",
    " ## Send the synthetic data generation prompt to the LLM and print the response\n",
    "print(\"Sent Syn Data\")\n",
    "response = requests.post(REQUEST_URL, data=json.dumps({\"prompt\":prompt_create_data, \"process_logits\": True}), headers=headers).json()\n",
    "\n",
    "logits = response[\"logits\"]\n",
    "scores = response[\"scores\"]\n",
    "\n"
   ]
  },
  {
   "cell_type": "code",
   "execution_count": 17,
   "metadata": {},
   "outputs": [
    {
     "name": "stdout",
     "output_type": "stream",
     "text": [
      "(334, 1, 128256)\n",
      "12779\n",
      "333\n"
     ]
    }
   ],
   "source": [
    "import numpy as np\n",
    "\n",
    "\n",
    "n_scores = np.array(scores)\n",
    "\n"
   ]
  }
 ],
 "metadata": {
  "kernelspec": {
   "display_name": "Python 3",
   "language": "python",
   "name": "python3"
  },
  "language_info": {
   "codemirror_mode": {
    "name": "ipython",
    "version": 3
   },
   "file_extension": ".py",
   "mimetype": "text/x-python",
   "name": "python",
   "nbconvert_exporter": "python",
   "pygments_lexer": "ipython3",
   "version": "3.11.1"
  }
 },
 "nbformat": 4,
 "nbformat_minor": 2
}
